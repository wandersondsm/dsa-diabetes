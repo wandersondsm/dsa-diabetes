{
 "cells": [
  {
   "cell_type": "markdown",
   "metadata": {},
   "source": [
    "# Competição DSA de Machine Learning - Edição Janeiro/2019\n",
    "## CRISP-DM: Data Preparation\n",
    "**Autor:** Wanderson Marques - wdsmarques@gmail.com\n",
    "\n",
    "Esse Jupyter Notebook contém o **pré-processamento** do conjunto de dados. Considerando a metodologia CRISP-DM, essa atividade refere-se à terceira fase, a preparação dos dados. \n",
    "\n",
    "<img src=\"imgs/dataPreparation.jpg\" />"
   ]
  },
  {
   "cell_type": "markdown",
   "metadata": {},
   "source": [
    "### Carregar bibliotecas"
   ]
  },
  {
   "cell_type": "code",
   "execution_count": 6,
   "metadata": {},
   "outputs": [],
   "source": [
    "import pandas as pd\n",
    "import numpy as np\n",
    "import joblib\n",
    "from sklearn.model_selection import train_test_split\n",
    "from sklearn.decomposition import PCA\n",
    "from sklearn.preprocessing import StandardScaler\n",
    "from imblearn.over_sampling import SMOTE\n",
    "from sklearn.linear_model import LinearRegression\n",
    "import matplotlib.pyplot as plt\n",
    "import seaborn as sns\n",
    "from pylab import rcParams"
   ]
  },
  {
   "cell_type": "code",
   "execution_count": 7,
   "metadata": {},
   "outputs": [],
   "source": [
    "# Exibir gráficos dentro do Jupyter Notebook\n",
    "% matplotlib inline\n",
    "\n",
    "# Definir tamanho padrão para os gráficos\n",
    "rcParams['figure.figsize'] = 17, 4"
   ]
  },
  {
   "cell_type": "markdown",
   "metadata": {},
   "source": [
    "### Carregar dataset"
   ]
  },
  {
   "cell_type": "code",
   "execution_count": 8,
   "metadata": {},
   "outputs": [
    {
     "data": {
      "text/html": [
       "<div>\n",
       "<style scoped>\n",
       "    .dataframe tbody tr th:only-of-type {\n",
       "        vertical-align: middle;\n",
       "    }\n",
       "\n",
       "    .dataframe tbody tr th {\n",
       "        vertical-align: top;\n",
       "    }\n",
       "\n",
       "    .dataframe thead th {\n",
       "        text-align: right;\n",
       "    }\n",
       "</style>\n",
       "<table border=\"1\" class=\"dataframe\">\n",
       "  <thead>\n",
       "    <tr style=\"text-align: right;\">\n",
       "      <th></th>\n",
       "      <th>num_gestacoes</th>\n",
       "      <th>glicose</th>\n",
       "      <th>pressao_sanguinea</th>\n",
       "      <th>grossura_pele</th>\n",
       "      <th>insulina</th>\n",
       "      <th>bmi</th>\n",
       "      <th>indice_historico</th>\n",
       "      <th>idade</th>\n",
       "      <th>classe</th>\n",
       "    </tr>\n",
       "  </thead>\n",
       "  <tbody>\n",
       "    <tr>\n",
       "      <th>0</th>\n",
       "      <td>6</td>\n",
       "      <td>148</td>\n",
       "      <td>72</td>\n",
       "      <td>35</td>\n",
       "      <td>0</td>\n",
       "      <td>33.6</td>\n",
       "      <td>0.627</td>\n",
       "      <td>50</td>\n",
       "      <td>1</td>\n",
       "    </tr>\n",
       "    <tr>\n",
       "      <th>1</th>\n",
       "      <td>1</td>\n",
       "      <td>85</td>\n",
       "      <td>66</td>\n",
       "      <td>29</td>\n",
       "      <td>0</td>\n",
       "      <td>26.6</td>\n",
       "      <td>0.351</td>\n",
       "      <td>31</td>\n",
       "      <td>0</td>\n",
       "    </tr>\n",
       "    <tr>\n",
       "      <th>2</th>\n",
       "      <td>8</td>\n",
       "      <td>183</td>\n",
       "      <td>64</td>\n",
       "      <td>0</td>\n",
       "      <td>0</td>\n",
       "      <td>23.3</td>\n",
       "      <td>0.672</td>\n",
       "      <td>32</td>\n",
       "      <td>1</td>\n",
       "    </tr>\n",
       "    <tr>\n",
       "      <th>3</th>\n",
       "      <td>1</td>\n",
       "      <td>89</td>\n",
       "      <td>66</td>\n",
       "      <td>23</td>\n",
       "      <td>94</td>\n",
       "      <td>28.1</td>\n",
       "      <td>0.167</td>\n",
       "      <td>21</td>\n",
       "      <td>0</td>\n",
       "    </tr>\n",
       "    <tr>\n",
       "      <th>4</th>\n",
       "      <td>0</td>\n",
       "      <td>137</td>\n",
       "      <td>40</td>\n",
       "      <td>35</td>\n",
       "      <td>168</td>\n",
       "      <td>43.1</td>\n",
       "      <td>2.288</td>\n",
       "      <td>33</td>\n",
       "      <td>1</td>\n",
       "    </tr>\n",
       "  </tbody>\n",
       "</table>\n",
       "</div>"
      ],
      "text/plain": [
       "   num_gestacoes  glicose  pressao_sanguinea  grossura_pele  insulina   bmi  \\\n",
       "0              6      148                 72             35         0  33.6   \n",
       "1              1       85                 66             29         0  26.6   \n",
       "2              8      183                 64              0         0  23.3   \n",
       "3              1       89                 66             23        94  28.1   \n",
       "4              0      137                 40             35       168  43.1   \n",
       "\n",
       "   indice_historico  idade  classe  \n",
       "0             0.627     50       1  \n",
       "1             0.351     31       0  \n",
       "2             0.672     32       1  \n",
       "3             0.167     21       0  \n",
       "4             2.288     33       1  "
      ]
     },
     "execution_count": 8,
     "metadata": {},
     "output_type": "execute_result"
    }
   ],
   "source": [
    "dataset = pd.read_csv('datasets/dataset_treino.csv')\n",
    "\n",
    "# Descartar identificador dos pacientes\n",
    "dataset.drop(['id'], axis=1, inplace=True)\n",
    "\n",
    "dataset.head()"
   ]
  },
  {
   "cell_type": "markdown",
   "metadata": {},
   "source": [
    "### Separar conjuntos de treino (70%) e validação (30%)"
   ]
  },
  {
   "cell_type": "markdown",
   "metadata": {},
   "source": [
    "O conjunto de validação será utilizado posteriormente, para verificar a capacidade preditiva do modelo. Ele é isolado para que não receba nenhum tipo de viés."
   ]
  },
  {
   "cell_type": "code",
   "execution_count": 9,
   "metadata": {},
   "outputs": [],
   "source": [
    "train, valid = train_test_split(dataset.copy(), test_size=0.3, random_state=1)\n",
    "dataset = None"
   ]
  },
  {
   "cell_type": "markdown",
   "metadata": {},
   "source": [
    "### Gravar conjuntos de validação"
   ]
  },
  {
   "cell_type": "code",
   "execution_count": 10,
   "metadata": {},
   "outputs": [],
   "source": [
    "valid.to_csv('datasets/valid.csv', index=False)"
   ]
  },
  {
   "cell_type": "markdown",
   "metadata": {},
   "source": [
    "### Tratar valores nulos"
   ]
  },
  {
   "cell_type": "markdown",
   "metadata": {},
   "source": [
    "São tratamentos comuns para valores nulos:\n",
    "- Exclusão do atributo (caso ele seja nulo para grande parte das instâncias)\n",
    "- Exclusão da instância (caso ela seja nula para grande parte dos atributos)\n",
    "- Imputação por estatísticas simples, como média, mediana ou moda (podem ser calculadas para sub-amostras)\n",
    "- Imputação por regressão e modelos preditivos"
   ]
  },
  {
   "cell_type": "code",
   "execution_count": 11,
   "metadata": {},
   "outputs": [],
   "source": [
    "# Converter atributos zerados (fora de domínio) para nulo\n",
    "naoZero = ['glicose', 'pressao_sanguinea', 'grossura_pele', 'insulina', 'bmi']\n",
    "for coluna in naoZero:\n",
    "    train.loc[train[coluna] == 0, coluna] = np.NaN"
   ]
  },
  {
   "cell_type": "code",
   "execution_count": 12,
   "metadata": {},
   "outputs": [
    {
     "data": {
      "text/plain": [
       "num_gestacoes          0\n",
       "glicose                4\n",
       "pressao_sanguinea     21\n",
       "grossura_pele        125\n",
       "insulina             205\n",
       "bmi                    6\n",
       "indice_historico       0\n",
       "idade                  0\n",
       "classe                 0\n",
       "dtype: int64"
      ]
     },
     "execution_count": 12,
     "metadata": {},
     "output_type": "execute_result"
    }
   ],
   "source": [
    "train.isnull().sum()"
   ]
  },
  {
   "cell_type": "markdown",
   "metadata": {},
   "source": [
    "##### Imputar em glicose, pressao_sanguinea e bmi usando a mediana dos grupos (diabéticos e não diabéticos)"
   ]
  },
  {
   "cell_type": "code",
   "execution_count": 13,
   "metadata": {},
   "outputs": [
    {
     "name": "stdout",
     "output_type": "stream",
     "text": [
      "A mediana para diabéticos e não diabéticos é, respectivamente,  106.0 141.5\n"
     ]
    }
   ],
   "source": [
    "mediana_nao_diabeticos = np.median((train.loc[train['classe'] == 0, 'glicose']).dropna())\n",
    "mediana_diabeticos = np.median((train.loc[train['classe'] == 1, 'glicose']).dropna())\n",
    "\n",
    "train.loc[(train['glicose'].isnull()) & (train['classe'] == 0), 'glicose'] = mediana_nao_diabeticos\n",
    "train.loc[(train['glicose'].isnull()) & (train['classe'] == 1), 'glicose'] = mediana_diabeticos\n",
    "\n",
    "print(\"A mediana para diabéticos e não diabéticos é, respectivamente, \", mediana_nao_diabeticos, mediana_diabeticos)"
   ]
  },
  {
   "cell_type": "code",
   "execution_count": 14,
   "metadata": {},
   "outputs": [
    {
     "name": "stdout",
     "output_type": "stream",
     "text": [
      "A mediana para diabéticos e não diabéticos é, respectivamente,  29.8 34.3\n"
     ]
    }
   ],
   "source": [
    "mediana_nao_diabeticos = np.median((train.loc[train['classe'] == 0, 'bmi']).dropna())\n",
    "mediana_diabeticos = np.median((train.loc[train['classe'] == 1, 'bmi']).dropna())\n",
    "\n",
    "train.loc[(train['bmi'].isnull()) & (train['classe'] == 0), 'bmi'] = mediana_nao_diabeticos\n",
    "train.loc[(train['bmi'].isnull()) & (train['classe'] == 1), 'bmi'] = mediana_diabeticos\n",
    "\n",
    "print(\"A mediana para diabéticos e não diabéticos é, respectivamente, \", mediana_nao_diabeticos, mediana_diabeticos)"
   ]
  },
  {
   "cell_type": "code",
   "execution_count": 15,
   "metadata": {},
   "outputs": [
    {
     "name": "stdout",
     "output_type": "stream",
     "text": [
      "A mediana para diabéticos e não diabéticos é, respectivamente,  70.0 74.0\n"
     ]
    }
   ],
   "source": [
    "mediana_nao_diabeticos = np.median((train.loc[train['classe'] == 0, 'pressao_sanguinea']).dropna())\n",
    "mediana_diabeticos = np.median((train.loc[train['classe'] == 1, 'pressao_sanguinea']).dropna())\n",
    "\n",
    "train.loc[(train['pressao_sanguinea'].isnull()) & (train['classe'] == 0), 'pressao_sanguinea'] = mediana_nao_diabeticos\n",
    "train.loc[(train['pressao_sanguinea'].isnull()) & (train['classe'] == 1), 'pressao_sanguinea'] = mediana_diabeticos\n",
    "\n",
    "print(\"A mediana para diabéticos e não diabéticos é, respectivamente, \", mediana_nao_diabeticos, mediana_diabeticos)"
   ]
  },
  {
   "cell_type": "markdown",
   "metadata": {},
   "source": [
    "##### Imputar em grossura da pele e insulina utilizando regressão linear simples"
   ]
  },
  {
   "cell_type": "code",
   "execution_count": 16,
   "metadata": {},
   "outputs": [],
   "source": [
    "# Função para estimar um valor y dado um valor x com Regressão Linear\n",
    "def LinearReg(name, df, x_label, y_label):\n",
    "    filterdf = (df[y_label].isnull()) & (df[x_label].notnull())\n",
    "    dropped =  df.dropna()\n",
    "    x = dropped[[x_label]]\n",
    "    y = dropped[[y_label]]\n",
    "    \n",
    "    model = LinearRegression()\n",
    "    model.fit(x, y)\n",
    "    \n",
    "    if len(df.loc[filterdf, [x_label]]) > 0:\n",
    "        df.loc[filterdf, [y_label]] = model.predict(df.loc[filterdf, [x_label]])\n",
    "    \n",
    "    joblib.dump(model, filename='models/'+name+'.pkl')\n",
    "    \n",
    "    return df"
   ]
  },
  {
   "cell_type": "code",
   "execution_count": 17,
   "metadata": {},
   "outputs": [],
   "source": [
    "# Imputar grossura_pele utilizando bmi\n",
    "train = LinearReg('reg-grossura_pele', train, 'bmi', 'grossura_pele')\n",
    "\n",
    "# Imputar insulina utilizando glicose\n",
    "train = LinearReg('reg-insulina', train, 'glicose', 'insulina')"
   ]
  },
  {
   "cell_type": "code",
   "execution_count": 18,
   "metadata": {},
   "outputs": [
    {
     "data": {
      "text/plain": [
       "num_gestacoes        0\n",
       "glicose              0\n",
       "pressao_sanguinea    0\n",
       "grossura_pele        0\n",
       "insulina             0\n",
       "bmi                  0\n",
       "indice_historico     0\n",
       "idade                0\n",
       "classe               0\n",
       "dtype: int64"
      ]
     },
     "execution_count": 18,
     "metadata": {},
     "output_type": "execute_result"
    }
   ],
   "source": [
    "train.isnull().sum()"
   ]
  },
  {
   "cell_type": "markdown",
   "metadata": {},
   "source": [
    "### Tratar outliers"
   ]
  },
  {
   "cell_type": "markdown",
   "metadata": {},
   "source": [
    "São tratamentos comuns para valores nulos:\n",
    "\n",
    "- Exclusão da instância\n",
    "- Correção por estatísticas simples ou modelos preditivos"
   ]
  },
  {
   "cell_type": "markdown",
   "metadata": {},
   "source": [
    "Não será feito neste momento nenhum tratamento de outliers"
   ]
  },
  {
   "cell_type": "markdown",
   "metadata": {},
   "source": [
    "### Balancear classes"
   ]
  },
  {
   "cell_type": "markdown",
   "metadata": {},
   "source": [
    "Em problemas de classificação onde as classes (0 e 1 para classe diabetes) estão desbalanceadas é comum que seja feito o balanceamento para evitar um modelo enviesado. Esse balanceamento pode ser feito limitando a quantidade de instâncias pela classe de menor representatividade ou utilizando técnicas de sobre-amostragem (oversampling). "
   ]
  },
  {
   "cell_type": "code",
   "execution_count": 19,
   "metadata": {},
   "outputs": [
    {
     "data": {
      "text/plain": [
       "0    279\n",
       "1    141\n",
       "Name: classe, dtype: int64"
      ]
     },
     "execution_count": 19,
     "metadata": {},
     "output_type": "execute_result"
    }
   ],
   "source": [
    "# Classes desbalanceadas\n",
    "train['classe'].value_counts()"
   ]
  },
  {
   "cell_type": "code",
   "execution_count": 20,
   "metadata": {},
   "outputs": [],
   "source": [
    "# Separar dados em variáveis X (preditoras) e y (predita)\n",
    "X = train.drop(['classe'], axis=1)\n",
    "y = train['classe']"
   ]
  },
  {
   "cell_type": "code",
   "execution_count": 21,
   "metadata": {},
   "outputs": [],
   "source": [
    "# Realizar oversampling\n",
    "sm = SMOTE()\n",
    "X_res, y_res = sm.fit_sample(X, y)\n",
    "\n",
    "y = pd.DataFrame(y_res, columns=['classe'])"
   ]
  },
  {
   "cell_type": "code",
   "execution_count": 22,
   "metadata": {},
   "outputs": [
    {
     "data": {
      "text/plain": [
       "1    279\n",
       "0    279\n",
       "Name: classe, dtype: int64"
      ]
     },
     "execution_count": 22,
     "metadata": {},
     "output_type": "execute_result"
    }
   ],
   "source": [
    "# Classes balanceadas\n",
    "y['classe'].value_counts()"
   ]
  },
  {
   "cell_type": "markdown",
   "metadata": {},
   "source": [
    "### Padronizar atributos"
   ]
  },
  {
   "cell_type": "markdown",
   "metadata": {},
   "source": [
    "É comum que cada atributo possua uma escala diferente, porém isso pode ser um problema para a maioria dos modelos preditivos. Portanto, é necessário transformar os dados, colocando todos os atributos em uma mesma escala."
   ]
  },
  {
   "cell_type": "code",
   "execution_count": 23,
   "metadata": {},
   "outputs": [
    {
     "data": {
      "text/plain": [
       "['models/scaler.pkl']"
      ]
     },
     "execution_count": 23,
     "metadata": {},
     "output_type": "execute_result"
    }
   ],
   "source": [
    "# Preparar o scaler\n",
    "# Outros scalers: RobustScaler, MinMaxScaler\n",
    "scaler = StandardScaler()\n",
    "scaler.fit(X)\n",
    "\n",
    "# Salvar o scaler para uso futuro\n",
    "joblib.dump(scaler, filename='models/scaler.pkl')"
   ]
  },
  {
   "cell_type": "code",
   "execution_count": 24,
   "metadata": {},
   "outputs": [],
   "source": [
    "# Transformar os dados\n",
    "X = pd.DataFrame(scaler.transform(X_res), columns=train.drop(['classe'], axis=1).columns)\n",
    "\n",
    "train = pd.concat([X, y], axis=1)"
   ]
  },
  {
   "cell_type": "markdown",
   "metadata": {},
   "source": [
    "### Gravar conjuntos de treino pré-processado"
   ]
  },
  {
   "cell_type": "markdown",
   "metadata": {},
   "source": [
    "Após a finalização do pré-processamento, os dados transformados são salvos."
   ]
  },
  {
   "cell_type": "code",
   "execution_count": 25,
   "metadata": {},
   "outputs": [
    {
     "data": {
      "text/html": [
       "<div>\n",
       "<style scoped>\n",
       "    .dataframe tbody tr th:only-of-type {\n",
       "        vertical-align: middle;\n",
       "    }\n",
       "\n",
       "    .dataframe tbody tr th {\n",
       "        vertical-align: top;\n",
       "    }\n",
       "\n",
       "    .dataframe thead th {\n",
       "        text-align: right;\n",
       "    }\n",
       "</style>\n",
       "<table border=\"1\" class=\"dataframe\">\n",
       "  <thead>\n",
       "    <tr style=\"text-align: right;\">\n",
       "      <th></th>\n",
       "      <th>num_gestacoes</th>\n",
       "      <th>glicose</th>\n",
       "      <th>pressao_sanguinea</th>\n",
       "      <th>grossura_pele</th>\n",
       "      <th>insulina</th>\n",
       "      <th>bmi</th>\n",
       "      <th>indice_historico</th>\n",
       "      <th>idade</th>\n",
       "      <th>classe</th>\n",
       "    </tr>\n",
       "  </thead>\n",
       "  <tbody>\n",
       "    <tr>\n",
       "      <th>0</th>\n",
       "      <td>0.081683</td>\n",
       "      <td>-0.958528</td>\n",
       "      <td>-0.128467</td>\n",
       "      <td>0.375059</td>\n",
       "      <td>-0.646852</td>\n",
       "      <td>0.130852</td>\n",
       "      <td>-0.087298</td>\n",
       "      <td>-0.915004</td>\n",
       "      <td>0</td>\n",
       "    </tr>\n",
       "    <tr>\n",
       "      <th>1</th>\n",
       "      <td>0.081683</td>\n",
       "      <td>-0.828195</td>\n",
       "      <td>-0.615292</td>\n",
       "      <td>-0.066020</td>\n",
       "      <td>-0.602656</td>\n",
       "      <td>-0.025319</td>\n",
       "      <td>-0.942702</td>\n",
       "      <td>-0.173586</td>\n",
       "      <td>1</td>\n",
       "    </tr>\n",
       "    <tr>\n",
       "      <th>2</th>\n",
       "      <td>0.385285</td>\n",
       "      <td>1.126797</td>\n",
       "      <td>1.007455</td>\n",
       "      <td>1.570262</td>\n",
       "      <td>3.912298</td>\n",
       "      <td>0.925903</td>\n",
       "      <td>0.431947</td>\n",
       "      <td>0.073553</td>\n",
       "      <td>0</td>\n",
       "    </tr>\n",
       "    <tr>\n",
       "      <th>3</th>\n",
       "      <td>-1.132724</td>\n",
       "      <td>-0.893362</td>\n",
       "      <td>2.305653</td>\n",
       "      <td>1.072261</td>\n",
       "      <td>-0.806473</td>\n",
       "      <td>1.593177</td>\n",
       "      <td>1.638517</td>\n",
       "      <td>0.155933</td>\n",
       "      <td>0</td>\n",
       "    </tr>\n",
       "    <tr>\n",
       "      <th>4</th>\n",
       "      <td>0.992489</td>\n",
       "      <td>-0.372030</td>\n",
       "      <td>0.682906</td>\n",
       "      <td>0.275459</td>\n",
       "      <td>-0.270717</td>\n",
       "      <td>0.528377</td>\n",
       "      <td>1.956667</td>\n",
       "      <td>0.814972</td>\n",
       "      <td>1</td>\n",
       "    </tr>\n",
       "  </tbody>\n",
       "</table>\n",
       "</div>"
      ],
      "text/plain": [
       "   num_gestacoes   glicose  pressao_sanguinea  grossura_pele  insulina  \\\n",
       "0       0.081683 -0.958528          -0.128467       0.375059 -0.646852   \n",
       "1       0.081683 -0.828195          -0.615292      -0.066020 -0.602656   \n",
       "2       0.385285  1.126797           1.007455       1.570262  3.912298   \n",
       "3      -1.132724 -0.893362           2.305653       1.072261 -0.806473   \n",
       "4       0.992489 -0.372030           0.682906       0.275459 -0.270717   \n",
       "\n",
       "        bmi  indice_historico     idade  classe  \n",
       "0  0.130852         -0.087298 -0.915004       0  \n",
       "1 -0.025319         -0.942702 -0.173586       1  \n",
       "2  0.925903          0.431947  0.073553       0  \n",
       "3  1.593177          1.638517  0.155933       0  \n",
       "4  0.528377          1.956667  0.814972       1  "
      ]
     },
     "execution_count": 25,
     "metadata": {},
     "output_type": "execute_result"
    }
   ],
   "source": [
    "train.head()"
   ]
  },
  {
   "cell_type": "code",
   "execution_count": 26,
   "metadata": {},
   "outputs": [],
   "source": [
    "train.to_csv('datasets/train-preprocessado.csv', index=False)"
   ]
  }
 ],
 "metadata": {
  "kernelspec": {
   "display_name": "Python 3",
   "language": "python",
   "name": "python3"
  },
  "language_info": {
   "codemirror_mode": {
    "name": "ipython",
    "version": 3
   },
   "file_extension": ".py",
   "mimetype": "text/x-python",
   "name": "python",
   "nbconvert_exporter": "python",
   "pygments_lexer": "ipython3",
   "version": "3.6.4"
  }
 },
 "nbformat": 4,
 "nbformat_minor": 2
}
