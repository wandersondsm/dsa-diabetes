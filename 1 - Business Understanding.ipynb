{
 "cells": [
  {
   "cell_type": "markdown",
   "metadata": {},
   "source": [
    "# Competição DSA de Machine Learning - Edição Janeiro/2019\n",
    "## CRISP-DM: Business Understanding\n",
    "**Autor:** Wanderson Marques - wdsmarques@gmail.com\n",
    "\n",
    "Esse Jupyter Notebook contém informações sobre o negócio relacionado ao projeto. O entendimento do negócio é uma importante fase de qualquer projeto de Data Science, sendo contemplado pela primeira fase do CRISP-DM.\n",
    "\n",
    "<img src=\"imgs/businessUnderstanding.jpg\" />"
   ]
  },
  {
   "cell_type": "markdown",
   "metadata": {},
   "source": [
    "### Entender e delimitar o problema"
   ]
  },
  {
   "cell_type": "markdown",
   "metadata": {},
   "source": [
    "**Definições**<br/>\n",
    "Insulina - hormônio secretado pelo pâncreas<br/>\n",
    "Glicose - substância que constitui a principal fonte de energia para os organismos vivos<br/>\n",
    "Glicemia - concentração de glicose no sangue<br/>\n",
    "\n",
    "O diabetes é uma síndrome metabólica de origem múltipla, decorrente da falta de insulina e/ou da incapacidade de a insulina exercer adequadamente seus efeitos, causando um aumento da glicose (açúcar) no sangue. O diabetes acontece porque o pâncreas não é capaz de produzir o hormônio insulina em quantidade suficiente para suprir as necessidades do organismo, ou porque este hormônio não é capaz de agir de maneira adequada (resistência à insulina). A insulina promove a redução da glicemia ao permitir que o açúcar que está presente no sangue possa penetrar dentro das células, para ser utilizado como fonte de energia. Portanto, se houver falta desse hormônio, ou mesmo se ele não agir corretamente, haverá aumento de glicose no sangue e, consequentemente, o diabetes."
   ]
  },
  {
   "cell_type": "markdown",
   "metadata": {},
   "source": [
    "### Definir objetivos do projeto"
   ]
  },
  {
   "cell_type": "markdown",
   "metadata": {},
   "source": [
    "O objetivo do projeto é desenvolver um modelo preditivo para prever, com base em medidas de diagnóstico, se um paciente tem diabetes."
   ]
  },
  {
   "cell_type": "markdown",
   "metadata": {},
   "source": [
    "### Critérios de sucesso"
   ]
  },
  {
   "cell_type": "markdown",
   "metadata": {},
   "source": [
    "Melhor acurácia possível no Kaggle até a data limite para submissão"
   ]
  },
  {
   "cell_type": "markdown",
   "metadata": {},
   "source": [
    "### Revisar bibliografia"
   ]
  },
  {
   "cell_type": "markdown",
   "metadata": {},
   "source": [
    "- https://www.tuasaude.com/exame-da-curva-glicemica/\n",
    "- https://www.acc.org/latest-in-cardiology/articles/2017/11/08/11/47/mon-5pm-bp-guideline-aha-2017\n",
    "- http://www.ibb.unesp.br/Home/Departamentos/Educacao/Laboratorios/CentrodeEstudosePraticasemNutricao-CEPRAN/nutricao-manual-adulto---cepran.pdf\n",
    "- https://medsimples.com/curva-glicemica-insulinemica/\n",
    "- https://pt.wikipedia.org/wiki/%C3%8Dndice_de_massa_corporal\n",
    "- https://www.tuasaude.com/para-que-serve-o-indice-homa/\n",
    "- http://www.fleury.com.br/medicos/educacao-medica/revista-medica/materias/Pages/calculo-homa-ir-grau-de-resistencia-insulinica.aspx"
   ]
  },
  {
   "cell_type": "markdown",
   "metadata": {},
   "source": [
    "### Definir tipo do projeto"
   ]
  },
  {
   "cell_type": "markdown",
   "metadata": {},
   "source": [
    "Aprendizado Supervisionado / Classificação Binária"
   ]
  }
 ],
 "metadata": {
  "kernelspec": {
   "display_name": "Python 3",
   "language": "python",
   "name": "python3"
  },
  "language_info": {
   "codemirror_mode": {
    "name": "ipython",
    "version": 3
   },
   "file_extension": ".py",
   "mimetype": "text/x-python",
   "name": "python",
   "nbconvert_exporter": "python",
   "pygments_lexer": "ipython3",
   "version": "3.6.4"
  }
 },
 "nbformat": 4,
 "nbformat_minor": 2
}
